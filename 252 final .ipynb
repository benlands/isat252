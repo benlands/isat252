{
 "cells": [
  {
   "cell_type": "markdown",
   "metadata": {},
   "source": [
    "# ISAT 252 Covid-19 Overview"
   ]
  },
  {
   "cell_type": "code",
   "execution_count": 4,
   "metadata": {},
   "outputs": [],
   "source": [
    "import pandas"
   ]
  },
  {
   "cell_type": "code",
   "execution_count": 5,
   "metadata": {},
   "outputs": [],
   "source": [
    "%matplotlib inline"
   ]
  },
  {
   "cell_type": "code",
   "execution_count": 6,
   "metadata": {},
   "outputs": [
    {
     "data": {
      "text/html": [
       "<div>\n",
       "<style scoped>\n",
       "    .dataframe tbody tr th:only-of-type {\n",
       "        vertical-align: middle;\n",
       "    }\n",
       "\n",
       "    .dataframe tbody tr th {\n",
       "        vertical-align: top;\n",
       "    }\n",
       "\n",
       "    .dataframe thead th {\n",
       "        text-align: right;\n",
       "    }\n",
       "</style>\n",
       "<table border=\"1\" class=\"dataframe\">\n",
       "  <thead>\n",
       "    <tr style=\"text-align: right;\">\n",
       "      <th></th>\n",
       "      <th>dateRep</th>\n",
       "      <th>day</th>\n",
       "      <th>month</th>\n",
       "      <th>year</th>\n",
       "      <th>cases</th>\n",
       "      <th>deaths</th>\n",
       "      <th>countriesAndTerritories</th>\n",
       "      <th>geoId</th>\n",
       "      <th>countryterritoryCode</th>\n",
       "      <th>popData2018</th>\n",
       "      <th>continentExp</th>\n",
       "    </tr>\n",
       "  </thead>\n",
       "  <tbody>\n",
       "    <tr>\n",
       "      <th>0</th>\n",
       "      <td>2020-06-10</td>\n",
       "      <td>10</td>\n",
       "      <td>6</td>\n",
       "      <td>2020</td>\n",
       "      <td>542</td>\n",
       "      <td>15</td>\n",
       "      <td>Afghanistan</td>\n",
       "      <td>AF</td>\n",
       "      <td>AFG</td>\n",
       "      <td>37172386.0</td>\n",
       "      <td>Asia</td>\n",
       "    </tr>\n",
       "    <tr>\n",
       "      <th>1</th>\n",
       "      <td>2020-06-09</td>\n",
       "      <td>9</td>\n",
       "      <td>6</td>\n",
       "      <td>2020</td>\n",
       "      <td>575</td>\n",
       "      <td>12</td>\n",
       "      <td>Afghanistan</td>\n",
       "      <td>AF</td>\n",
       "      <td>AFG</td>\n",
       "      <td>37172386.0</td>\n",
       "      <td>Asia</td>\n",
       "    </tr>\n",
       "    <tr>\n",
       "      <th>2</th>\n",
       "      <td>2020-06-08</td>\n",
       "      <td>8</td>\n",
       "      <td>6</td>\n",
       "      <td>2020</td>\n",
       "      <td>791</td>\n",
       "      <td>30</td>\n",
       "      <td>Afghanistan</td>\n",
       "      <td>AF</td>\n",
       "      <td>AFG</td>\n",
       "      <td>37172386.0</td>\n",
       "      <td>Asia</td>\n",
       "    </tr>\n",
       "    <tr>\n",
       "      <th>3</th>\n",
       "      <td>2020-06-07</td>\n",
       "      <td>7</td>\n",
       "      <td>6</td>\n",
       "      <td>2020</td>\n",
       "      <td>582</td>\n",
       "      <td>18</td>\n",
       "      <td>Afghanistan</td>\n",
       "      <td>AF</td>\n",
       "      <td>AFG</td>\n",
       "      <td>37172386.0</td>\n",
       "      <td>Asia</td>\n",
       "    </tr>\n",
       "    <tr>\n",
       "      <th>4</th>\n",
       "      <td>2020-06-06</td>\n",
       "      <td>6</td>\n",
       "      <td>6</td>\n",
       "      <td>2020</td>\n",
       "      <td>915</td>\n",
       "      <td>9</td>\n",
       "      <td>Afghanistan</td>\n",
       "      <td>AF</td>\n",
       "      <td>AFG</td>\n",
       "      <td>37172386.0</td>\n",
       "      <td>Asia</td>\n",
       "    </tr>\n",
       "    <tr>\n",
       "      <th>5</th>\n",
       "      <td>2020-06-05</td>\n",
       "      <td>5</td>\n",
       "      <td>6</td>\n",
       "      <td>2020</td>\n",
       "      <td>787</td>\n",
       "      <td>6</td>\n",
       "      <td>Afghanistan</td>\n",
       "      <td>AF</td>\n",
       "      <td>AFG</td>\n",
       "      <td>37172386.0</td>\n",
       "      <td>Asia</td>\n",
       "    </tr>\n",
       "    <tr>\n",
       "      <th>6</th>\n",
       "      <td>2020-06-04</td>\n",
       "      <td>4</td>\n",
       "      <td>6</td>\n",
       "      <td>2020</td>\n",
       "      <td>758</td>\n",
       "      <td>24</td>\n",
       "      <td>Afghanistan</td>\n",
       "      <td>AF</td>\n",
       "      <td>AFG</td>\n",
       "      <td>37172386.0</td>\n",
       "      <td>Asia</td>\n",
       "    </tr>\n",
       "    <tr>\n",
       "      <th>7</th>\n",
       "      <td>2020-06-03</td>\n",
       "      <td>3</td>\n",
       "      <td>6</td>\n",
       "      <td>2020</td>\n",
       "      <td>759</td>\n",
       "      <td>5</td>\n",
       "      <td>Afghanistan</td>\n",
       "      <td>AF</td>\n",
       "      <td>AFG</td>\n",
       "      <td>37172386.0</td>\n",
       "      <td>Asia</td>\n",
       "    </tr>\n",
       "    <tr>\n",
       "      <th>8</th>\n",
       "      <td>2020-06-02</td>\n",
       "      <td>2</td>\n",
       "      <td>6</td>\n",
       "      <td>2020</td>\n",
       "      <td>545</td>\n",
       "      <td>8</td>\n",
       "      <td>Afghanistan</td>\n",
       "      <td>AF</td>\n",
       "      <td>AFG</td>\n",
       "      <td>37172386.0</td>\n",
       "      <td>Asia</td>\n",
       "    </tr>\n",
       "    <tr>\n",
       "      <th>9</th>\n",
       "      <td>2020-06-01</td>\n",
       "      <td>1</td>\n",
       "      <td>6</td>\n",
       "      <td>2020</td>\n",
       "      <td>680</td>\n",
       "      <td>8</td>\n",
       "      <td>Afghanistan</td>\n",
       "      <td>AF</td>\n",
       "      <td>AFG</td>\n",
       "      <td>37172386.0</td>\n",
       "      <td>Asia</td>\n",
       "    </tr>\n",
       "  </tbody>\n",
       "</table>\n",
       "</div>"
      ],
      "text/plain": [
       "     dateRep  day  month  year  cases  deaths countriesAndTerritories geoId  \\\n",
       "0 2020-06-10   10      6  2020    542      15             Afghanistan    AF   \n",
       "1 2020-06-09    9      6  2020    575      12             Afghanistan    AF   \n",
       "2 2020-06-08    8      6  2020    791      30             Afghanistan    AF   \n",
       "3 2020-06-07    7      6  2020    582      18             Afghanistan    AF   \n",
       "4 2020-06-06    6      6  2020    915       9             Afghanistan    AF   \n",
       "5 2020-06-05    5      6  2020    787       6             Afghanistan    AF   \n",
       "6 2020-06-04    4      6  2020    758      24             Afghanistan    AF   \n",
       "7 2020-06-03    3      6  2020    759       5             Afghanistan    AF   \n",
       "8 2020-06-02    2      6  2020    545       8             Afghanistan    AF   \n",
       "9 2020-06-01    1      6  2020    680       8             Afghanistan    AF   \n",
       "\n",
       "  countryterritoryCode  popData2018 continentExp  \n",
       "0                  AFG   37172386.0         Asia  \n",
       "1                  AFG   37172386.0         Asia  \n",
       "2                  AFG   37172386.0         Asia  \n",
       "3                  AFG   37172386.0         Asia  \n",
       "4                  AFG   37172386.0         Asia  \n",
       "5                  AFG   37172386.0         Asia  \n",
       "6                  AFG   37172386.0         Asia  \n",
       "7                  AFG   37172386.0         Asia  \n",
       "8                  AFG   37172386.0         Asia  \n",
       "9                  AFG   37172386.0         Asia  "
      ]
     },
     "execution_count": 6,
     "metadata": {},
     "output_type": "execute_result"
    }
   ],
   "source": [
    "df = pandas.read_excel('s3://buckethead252/COVID-19-geographic-disbtribution-worldwide.xlsx')\n",
    "\n",
    "df[:10]"
   ]
  },
  {
   "cell_type": "markdown",
   "metadata": {},
   "source": [
    "# Background\n",
    "\n",
    "Talk about data source"
   ]
  },
  {
   "cell_type": "markdown",
   "metadata": {},
   "source": [
    "# 1. Global Covid-19 Situation by Month"
   ]
  },
  {
   "cell_type": "code",
   "execution_count": 25,
   "metadata": {},
   "outputs": [
    {
     "data": {
      "text/plain": [
       "<matplotlib.axes._subplots.AxesSubplot at 0x7f81c657b4e0>"
      ]
     },
     "execution_count": 25,
     "metadata": {},
     "output_type": "execute_result"
    },
    {
     "data": {
      "image/png": "[encoded data removed]",
      "text/plain": [
       "<Figure size 432x288 with 1 Axes>"
      ]
     },
     "metadata": {},
     "output_type": "display_data"
    }
   ],
   "source": [
    "sum_cases_by_date = df.groupby(\"dateRep\").sum()[\"cases\"]\n",
    "\n",
    "sum_cases_by_date.plot()"
   ]
  },
  {
   "cell_type": "code",
   "execution_count": 26,
   "metadata": {},
   "outputs": [
    {
     "data": {
      "text/plain": [
       "<matplotlib.axes._subplots.AxesSubplot at 0x7f81c69cba90>"
      ]
     },
     "execution_count": 26,
     "metadata": {},
     "output_type": "execute_result"
    },
    {
     "data": {
      "image/png": "[encoded data removed]",
      "text/plain": [
       "<Figure size 432x288 with 1 Axes>"
      ]
     },
     "metadata": {},
     "output_type": "display_data"
    }
   ],
   "source": [
    "sum_deaths_by_date = df.groupby(\"dateRep\").sum()[\"deaths\"]\n",
    "\n",
    "sum_deaths_by_date.plot()"
   ]
  },
  {
   "cell_type": "code",
   "execution_count": 27,
   "metadata": {},
   "outputs": [
    {
     "data": {
      "text/plain": [
       "<matplotlib.axes._subplots.AxesSubplot at 0x7f81c68d4c50>"
      ]
     },
     "execution_count": 27,
     "metadata": {},
     "output_type": "execute_result"
    },
    {
     "data": {
      "image/png": "[encoded data removed]",
      "text/plain": [
       "<Figure size 432x288 with 1 Axes>"
      ]
     },
     "metadata": {},
     "output_type": "display_data"
    }
   ],
   "source": [
    "sum_cases_by_date = df.groupby(\"dateRep\").sum()[\"cases\"]\n",
    "\n",
    "sum_cases_by_date.plot()\n",
    "\n",
    "sum_deaths_by_date = df.groupby(\"dateRep\").sum()[\"deaths\"]\n",
    "\n",
    "sum_deaths_by_date.plot()"
   ]
  },
  {
   "cell_type": "markdown",
   "metadata": {},
   "source": [
    "# 2. Countries with the highest death ratio to Covid-19"
   ]
  },
  {
   "cell_type": "code",
   "execution_count": 50,
   "metadata": {},
   "outputs": [
    {
     "data": {
      "text/plain": [
       "<matplotlib.axes._subplots.AxesSubplot at 0x7f81bf74a710>"
      ]
     },
     "execution_count": 50,
     "metadata": {},
     "output_type": "execute_result"
    },
    {
     "data": {
      "image/png": "[encoded data removed]",
      "text/plain": [
       "<Figure size 432x288 with 1 Axes>"
      ]
     },
     "metadata": {},
     "output_type": "display_data"
    }
   ],
   "source": [
    "death_rates = (df.groupby(\"countriesAndTerritories\").sum() [\"deaths\"]/ df.groupby(\"countriesAndTerritories\").sum() ['cases'])\n",
    "\n",
    "death_rates.nlargest(10).plot.bar()"
   ]
  },
  {
   "cell_type": "code",
   "execution_count": 71,
   "metadata": {},
   "outputs": [
    {
     "data": {
      "text/plain": [
       "countriesAndTerritories\n",
       "Yemen                     0.242366\n",
       "Sint_Maarten              0.194805\n",
       "France                    0.189507\n",
       "Belgium                   0.161835\n",
       "Italy                     0.144519\n",
       "United_Kingdom            0.141395\n",
       "Hungary                   0.136918\n",
       "Netherlands               0.125900\n",
       "British_Virgin_Islands    0.125000\n",
       "Mexico                    0.117851\n",
       "dtype: float64"
      ]
     },
     "execution_count": 71,
     "metadata": {},
     "output_type": "execute_result"
    }
   ],
   "source": [
    "death_rates.nlargest(10)"
   ]
  },
  {
   "cell_type": "markdown",
   "metadata": {},
   "source": [
    "# 3. countries with the greatest cases per capita"
   ]
  },
  {
   "cell_type": "code",
   "execution_count": 81,
   "metadata": {},
   "outputs": [
    {
     "data": {
      "text/plain": [
       "<matplotlib.axes._subplots.AxesSubplot at 0x7f81bf5f0470>"
      ]
     },
     "execution_count": 81,
     "metadata": {},
     "output_type": "execute_result"
    },
    {
     "data": {
      "image/png": "[encoded data removed]",
      "text/plain": [
       "<Figure size 432x288 with 1 Axes>"
      ]
     },
     "metadata": {},
     "output_type": "display_data"
    }
   ],
   "source": [
    "population = df.groupby(\"countriesAndTerritories\").mean()[\"popData2018\"]\n",
    "\n",
    "population.nlargest(10).plot.bar()"
   ]
  },
  {
   "cell_type": "code",
   "execution_count": 91,
   "metadata": {},
   "outputs": [
    {
     "data": {
      "text/plain": [
       "countriesAndTerritories\n",
       "Cases_on_an_international_conveyance_Japan    0.232000\n",
       "Qatar                                         0.025840\n",
       "San_Marino                                    0.020364\n",
       "Holy_See                                      0.012000\n",
       "Andorra                                       0.011064\n",
       "Bahrain                                       0.010322\n",
       "Kuwait                                        0.008010\n",
       "Chile                                         0.007622\n",
       "Singapore                                     0.006830\n",
       "Luxembourg                                    0.006658\n",
       "Peru                                          0.006369\n",
       "United_States_of_America                      0.006051\n",
       "dtype: float64"
      ]
     },
     "execution_count": 91,
     "metadata": {},
     "output_type": "execute_result"
    }
   ],
   "source": [
    "\n",
    "\n",
    "infection_cases = (df.groupby(\"countriesAndTerritories\").sum() [\"cases\"] / df.groupby(\"countriesAndTerritories\").mean()[\"popData2018\"])\n",
    "\n",
    "\n",
    "infection_cases.nlargest(12)\n"
   ]
  },
  {
   "cell_type": "markdown",
   "metadata": {},
   "source": [
    "# Sources"
   ]
  },
  {
   "cell_type": "markdown",
   "metadata": {},
   "source": [
    "# conclusion\n",
    "\n",
    "limitations"
   ]
  },
  {
   "cell_type": "markdown",
   "metadata": {},
   "source": [
    "Download today's data on the geographic distribution of COVID-19 cases worldwide. (2020, June 07). Retrieved June 10, 2020, from https://www.ecdc.europa.eu/en/publications-data/download-todays-data-geographic-distribution-covid-19-cases-worldwide"
   ]
  },
  {
   "cell_type": "code",
   "execution_count": 75,
   "metadata": {},
   "outputs": [
    {
     "data": {
      "text/plain": [
       "countriesAndTerritories\n",
       "Afghanistan                           37172386.0\n",
       "Albania                                2866376.0\n",
       "Algeria                               42228429.0\n",
       "Andorra                                  77006.0\n",
       "Angola                                30809762.0\n",
       "Anguilla                                     NaN\n",
       "Antigua_and_Barbuda                      96286.0\n",
       "Argentina                             44494502.0\n",
       "Armenia                                2951776.0\n",
       "Aruba                                   105845.0\n",
       "Australia                             24992369.0\n",
       "Austria                                8847037.0\n",
       "Azerbaijan                             9942334.0\n",
       "Bahamas                                 385640.0\n",
       "Bahrain                                1569439.0\n",
       "Bangladesh                           161356039.0\n",
       "Barbados                                286641.0\n",
       "Belarus                                9485386.0\n",
       "Belgium                               11422068.0\n",
       "Belize                                  383071.0\n",
       "Benin                                 11485048.0\n",
       "Bermuda                                  63968.0\n",
       "Bhutan                                  754394.0\n",
       "Bolivia                               11353142.0\n",
       "Bonaire, Saint Eustatius and Saba            NaN\n",
       "Bosnia_and_Herzegovina                 3323929.0\n",
       "Botswana                               2254126.0\n",
       "Brazil                               209469333.0\n",
       "British_Virgin_Islands                   29802.0\n",
       "Brunei_Darussalam                       428962.0\n",
       "                                        ...     \n",
       "Sri_Lanka                             21670000.0\n",
       "Sudan                                 41801533.0\n",
       "Suriname                                575991.0\n",
       "Sweden                                10183175.0\n",
       "Switzerland                            8516543.0\n",
       "Syria                                 16906283.0\n",
       "Taiwan                                23780452.0\n",
       "Tajikistan                             9100837.0\n",
       "Thailand                              69428524.0\n",
       "Timor_Leste                            1267972.0\n",
       "Togo                                   7889094.0\n",
       "Trinidad_and_Tobago                    1389858.0\n",
       "Tunisia                               11565204.0\n",
       "Turkey                                82319724.0\n",
       "Turks_and_Caicos_islands                 31458.0\n",
       "Uganda                                42723139.0\n",
       "Ukraine                               44622516.0\n",
       "United_Arab_Emirates                   9630959.0\n",
       "United_Kingdom                        66488991.0\n",
       "United_Republic_of_Tanzania           56318348.0\n",
       "United_States_Virgin_Islands            106977.0\n",
       "United_States_of_America             327167434.0\n",
       "Uruguay                                3449299.0\n",
       "Uzbekistan                            32955400.0\n",
       "Venezuela                             28870195.0\n",
       "Vietnam                               95540395.0\n",
       "Western_Sahara                               NaN\n",
       "Yemen                                 28498687.0\n",
       "Zambia                                17351822.0\n",
       "Zimbabwe                              14439018.0\n",
       "Name: popData2018, Length: 210, dtype: float64"
      ]
     },
     "execution_count": 75,
     "metadata": {},
     "output_type": "execute_result"
    }
   ],
   "source": [
    "population"
   ]
  },
  {
   "cell_type": "code",
   "execution_count": null,
   "metadata": {},
   "outputs": [],
   "source": []
  }
 ],
 "metadata": {
  "kernelspec": {
   "display_name": "conda_python3",
   "language": "python",
   "name": "conda_python3"
  },
  "language_info": {
   "codemirror_mode": {
    "name": "ipython",
    "version": 3
   },
   "file_extension": ".py",
   "mimetype": "text/x-python",
   "name": "python",
   "nbconvert_exporter": "python",
   "pygments_lexer": "ipython3",
   "version": "3.6.5"
  }
 },
 "nbformat": 4,
 "nbformat_minor": 4
}
